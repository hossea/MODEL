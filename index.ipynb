{
 "cells": [
  {
   "cell_type": "code",
   "execution_count": 303,
   "metadata": {},
   "outputs": [],
   "source": [
    "#CELL 1\n",
    "import pandas as pd\n",
    "import os\n",
    "import numpy as np\n",
    "import matplotlib.pyplot as plt\n",
    "import seaborn as sns\n",
    "from sklearn.model_selection import train_test_split\n",
    "from sklearn.preprocessing import StandardScaler, OneHotEncoder\n",
    "from sklearn.compose import ColumnTransformer\n",
    "from sklearn.pipeline import Pipeline\n",
    "from sklearn.metrics import mean_squared_error, r2_score\n",
    "from sklearn.linear_model import LinearRegression\n",
    "from sklearn.metrics import mean_absolute_error, mean_squared_error\n",
    "from sklearn.preprocessing import LabelEncoder\n",
    "import pickle\n",
    "import joblib\n",
    "\n",
    "\n"
   ]
  },
  {
   "cell_type": "code",
   "execution_count": 304,
   "metadata": {},
   "outputs": [
    {
     "data": {
      "text/html": [
       "<div>\n",
       "<style scoped>\n",
       "    .dataframe tbody tr th:only-of-type {\n",
       "        vertical-align: middle;\n",
       "    }\n",
       "\n",
       "    .dataframe tbody tr th {\n",
       "        vertical-align: top;\n",
       "    }\n",
       "\n",
       "    .dataframe thead th {\n",
       "        text-align: right;\n",
       "    }\n",
       "</style>\n",
       "<table border=\"1\" class=\"dataframe\">\n",
       "  <thead>\n",
       "    <tr style=\"text-align: right;\">\n",
       "      <th></th>\n",
       "      <th>ZIP</th>\n",
       "      <th>images_count</th>\n",
       "      <th>SQUARE_FT</th>\n",
       "      <th>parking_lot</th>\n",
       "      <th>rooms</th>\n",
       "      <th>user_id</th>\n",
       "      <th>phone</th>\n",
       "      <th>price</th>\n",
       "      <th>year_built</th>\n",
       "      <th>Yr_sold</th>\n",
       "      <th>sale_type</th>\n",
       "    </tr>\n",
       "  </thead>\n",
       "  <tbody>\n",
       "    <tr>\n",
       "      <th>0</th>\n",
       "      <td>16508550</td>\n",
       "      <td>12</td>\n",
       "      <td>1300.236407</td>\n",
       "      <td>2</td>\n",
       "      <td>3</td>\n",
       "      <td>1716845</td>\n",
       "      <td>784856045</td>\n",
       "      <td>KSh 130,000</td>\n",
       "      <td>2010</td>\n",
       "      <td>2008.0</td>\n",
       "      <td>WD</td>\n",
       "    </tr>\n",
       "    <tr>\n",
       "      <th>1</th>\n",
       "      <td>15715984</td>\n",
       "      <td>6</td>\n",
       "      <td>1275.000000</td>\n",
       "      <td>3</td>\n",
       "      <td>4</td>\n",
       "      <td>5078665</td>\n",
       "      <td>713739556</td>\n",
       "      <td>KSh 150,000</td>\n",
       "      <td>2011</td>\n",
       "      <td>2007.0</td>\n",
       "      <td>WD</td>\n",
       "    </tr>\n",
       "    <tr>\n",
       "      <th>2</th>\n",
       "      <td>16387265</td>\n",
       "      <td>17</td>\n",
       "      <td>933.159722</td>\n",
       "      <td>4</td>\n",
       "      <td>5</td>\n",
       "      <td>1927270</td>\n",
       "      <td>707875750</td>\n",
       "      <td>KSh 30,000</td>\n",
       "      <td>2013</td>\n",
       "      <td>2008.0</td>\n",
       "      <td>WD</td>\n",
       "    </tr>\n",
       "    <tr>\n",
       "      <th>3</th>\n",
       "      <td>16545942</td>\n",
       "      <td>10</td>\n",
       "      <td>929.921143</td>\n",
       "      <td>2</td>\n",
       "      <td>4</td>\n",
       "      <td>4365441</td>\n",
       "      <td>706098348</td>\n",
       "      <td>KSh 38,000</td>\n",
       "      <td>2022</td>\n",
       "      <td>2006.0</td>\n",
       "      <td>WD</td>\n",
       "    </tr>\n",
       "    <tr>\n",
       "      <th>4</th>\n",
       "      <td>16028693</td>\n",
       "      <td>14</td>\n",
       "      <td>999.009247</td>\n",
       "      <td>1</td>\n",
       "      <td>6</td>\n",
       "      <td>236839</td>\n",
       "      <td>727591037</td>\n",
       "      <td>KSh 130,000</td>\n",
       "      <td>2024</td>\n",
       "      <td>2008.0</td>\n",
       "      <td>WD</td>\n",
       "    </tr>\n",
       "  </tbody>\n",
       "</table>\n",
       "</div>"
      ],
      "text/plain": [
       "        ZIP  images_count    SQUARE_FT parking_lot rooms  user_id      phone  \\\n",
       "0  16508550            12  1300.236407           2     3  1716845  784856045   \n",
       "1  15715984             6  1275.000000           3     4  5078665  713739556   \n",
       "2  16387265            17   933.159722           4     5  1927270  707875750   \n",
       "3  16545942            10   929.921143           2     4  4365441  706098348   \n",
       "4  16028693            14   999.009247           1     6   236839  727591037   \n",
       "\n",
       "         price year_built  Yr_sold sale_type  \n",
       "0  KSh 130,000       2010   2008.0        WD  \n",
       "1  KSh 150,000       2011   2007.0        WD  \n",
       "2   KSh 30,000       2013   2008.0        WD  \n",
       "3   KSh 38,000       2022   2006.0        WD  \n",
       "4  KSh 130,000       2024   2008.0        WD  "
      ]
     },
     "execution_count": 304,
     "metadata": {},
     "output_type": "execute_result"
    }
   ],
   "source": [
    "#CELL 2\n",
    "df=pd.read_csv(\"C:/Users/Windows 10 Pro/Desktop/housedata/data/housing_dataset_1.csv\")\n",
    "df.head()\n"
   ]
  },
  {
   "cell_type": "code",
   "execution_count": 305,
   "metadata": {},
   "outputs": [
    {
     "name": "stdout",
     "output_type": "stream",
     "text": [
      "<class 'pandas.core.frame.DataFrame'>\n",
      "RangeIndex: 6280 entries, 0 to 6279\n",
      "Data columns (total 11 columns):\n",
      " #   Column        Non-Null Count  Dtype  \n",
      "---  ------        --------------  -----  \n",
      " 0   ZIP           6280 non-null   int64  \n",
      " 1   images_count  6280 non-null   int64  \n",
      " 2   SQUARE_FT     6280 non-null   float64\n",
      " 3   parking_lot   6280 non-null   object \n",
      " 4   rooms         6280 non-null   object \n",
      " 5   user_id       6280 non-null   int64  \n",
      " 6   phone         6280 non-null   int64  \n",
      " 7   price         6280 non-null   object \n",
      " 8   year_built    6280 non-null   object \n",
      " 9   Yr_sold       1460 non-null   float64\n",
      " 10  sale_type     1460 non-null   object \n",
      "dtypes: float64(2), int64(4), object(5)\n",
      "memory usage: 539.8+ KB\n"
     ]
    }
   ],
   "source": [
    "#CELL 3\n",
    "df.info() # there is no missing value\n"
   ]
  },
  {
   "cell_type": "code",
   "execution_count": 306,
   "metadata": {},
   "outputs": [
    {
     "data": {
      "text/plain": [
       "ZIP               int64\n",
       "images_count      int64\n",
       "SQUARE_FT       float64\n",
       "parking_lot      object\n",
       "rooms            object\n",
       "user_id           int64\n",
       "phone             int64\n",
       "price            object\n",
       "year_built       object\n",
       "Yr_sold         float64\n",
       "sale_type        object\n",
       "dtype: object"
      ]
     },
     "execution_count": 306,
     "metadata": {},
     "output_type": "execute_result"
    }
   ],
   "source": [
    "#CELL4\n",
    "df.dtypes\n"
   ]
  },
  {
   "cell_type": "code",
   "execution_count": 307,
   "metadata": {},
   "outputs": [
    {
     "data": {
      "text/plain": [
       "(6280, 11)"
      ]
     },
     "execution_count": 307,
     "metadata": {},
     "output_type": "execute_result"
    }
   ],
   "source": [
    "#CELL 5\n",
    "df.shape\n"
   ]
  },
  {
   "cell_type": "code",
   "execution_count": 308,
   "metadata": {},
   "outputs": [
    {
     "data": {
      "text/plain": [
       "6280"
      ]
     },
     "execution_count": 308,
     "metadata": {},
     "output_type": "execute_result"
    }
   ],
   "source": [
    "#CELL 6\n",
    "len(df[df['price']!=0])\n"
   ]
  },
  {
   "cell_type": "code",
   "execution_count": 309,
   "metadata": {},
   "outputs": [
    {
     "data": {
      "text/html": [
       "<div>\n",
       "<style scoped>\n",
       "    .dataframe tbody tr th:only-of-type {\n",
       "        vertical-align: middle;\n",
       "    }\n",
       "\n",
       "    .dataframe tbody tr th {\n",
       "        vertical-align: top;\n",
       "    }\n",
       "\n",
       "    .dataframe thead th {\n",
       "        text-align: right;\n",
       "    }\n",
       "</style>\n",
       "<table border=\"1\" class=\"dataframe\">\n",
       "  <thead>\n",
       "    <tr style=\"text-align: right;\">\n",
       "      <th></th>\n",
       "      <th>ZIP</th>\n",
       "      <th>images_count</th>\n",
       "      <th>SQUARE_FT</th>\n",
       "      <th>parking_lot</th>\n",
       "      <th>rooms</th>\n",
       "      <th>user_id</th>\n",
       "      <th>phone</th>\n",
       "      <th>price</th>\n",
       "      <th>year_built</th>\n",
       "      <th>Yr_sold</th>\n",
       "      <th>sale_type</th>\n",
       "    </tr>\n",
       "  </thead>\n",
       "  <tbody>\n",
       "    <tr>\n",
       "      <th>0</th>\n",
       "      <td>16508550</td>\n",
       "      <td>12</td>\n",
       "      <td>1300.236407</td>\n",
       "      <td>2</td>\n",
       "      <td>3</td>\n",
       "      <td>1716845</td>\n",
       "      <td>784856045</td>\n",
       "      <td>KSh 130,000</td>\n",
       "      <td>2010</td>\n",
       "      <td>2008.0</td>\n",
       "      <td>WD</td>\n",
       "    </tr>\n",
       "    <tr>\n",
       "      <th>1</th>\n",
       "      <td>15715984</td>\n",
       "      <td>6</td>\n",
       "      <td>1275.000000</td>\n",
       "      <td>3</td>\n",
       "      <td>4</td>\n",
       "      <td>5078665</td>\n",
       "      <td>713739556</td>\n",
       "      <td>KSh 150,000</td>\n",
       "      <td>2011</td>\n",
       "      <td>2007.0</td>\n",
       "      <td>WD</td>\n",
       "    </tr>\n",
       "    <tr>\n",
       "      <th>2</th>\n",
       "      <td>16387265</td>\n",
       "      <td>17</td>\n",
       "      <td>933.159722</td>\n",
       "      <td>4</td>\n",
       "      <td>5</td>\n",
       "      <td>1927270</td>\n",
       "      <td>707875750</td>\n",
       "      <td>KSh 30,000</td>\n",
       "      <td>2013</td>\n",
       "      <td>2008.0</td>\n",
       "      <td>WD</td>\n",
       "    </tr>\n",
       "    <tr>\n",
       "      <th>3</th>\n",
       "      <td>16545942</td>\n",
       "      <td>10</td>\n",
       "      <td>929.921143</td>\n",
       "      <td>2</td>\n",
       "      <td>4</td>\n",
       "      <td>4365441</td>\n",
       "      <td>706098348</td>\n",
       "      <td>KSh 38,000</td>\n",
       "      <td>2022</td>\n",
       "      <td>2006.0</td>\n",
       "      <td>WD</td>\n",
       "    </tr>\n",
       "    <tr>\n",
       "      <th>4</th>\n",
       "      <td>16028693</td>\n",
       "      <td>14</td>\n",
       "      <td>999.009247</td>\n",
       "      <td>1</td>\n",
       "      <td>6</td>\n",
       "      <td>236839</td>\n",
       "      <td>727591037</td>\n",
       "      <td>KSh 130,000</td>\n",
       "      <td>2024</td>\n",
       "      <td>2008.0</td>\n",
       "      <td>WD</td>\n",
       "    </tr>\n",
       "  </tbody>\n",
       "</table>\n",
       "</div>"
      ],
      "text/plain": [
       "        ZIP  images_count    SQUARE_FT parking_lot rooms  user_id      phone  \\\n",
       "0  16508550            12  1300.236407           2     3  1716845  784856045   \n",
       "1  15715984             6  1275.000000           3     4  5078665  713739556   \n",
       "2  16387265            17   933.159722           4     5  1927270  707875750   \n",
       "3  16545942            10   929.921143           2     4  4365441  706098348   \n",
       "4  16028693            14   999.009247           1     6   236839  727591037   \n",
       "\n",
       "         price year_built  Yr_sold sale_type  \n",
       "0  KSh 130,000       2010   2008.0        WD  \n",
       "1  KSh 150,000       2011   2007.0        WD  \n",
       "2   KSh 30,000       2013   2008.0        WD  \n",
       "3   KSh 38,000       2022   2006.0        WD  \n",
       "4  KSh 130,000       2024   2008.0        WD  "
      ]
     },
     "execution_count": 309,
     "metadata": {},
     "output_type": "execute_result"
    }
   ],
   "source": [
    "#cELL 7\n",
    "df=df[df['price']!=0]\n",
    "df.head()\n"
   ]
  },
  {
   "cell_type": "code",
   "execution_count": 310,
   "metadata": {},
   "outputs": [],
   "source": [
    "#CELL 8\n",
    "df.drop([ 'ZIP', 'images_count', 'SQUARE_FT',\n",
    "         'parking_lot', 'rooms', 'user_id', 'phone', \n",
    "         'price', 'year_built', 'Yr_sold', 'sale_type'],axis = 1, inplace=True)\n",
    "\n"
   ]
  },
  {
   "cell_type": "code",
   "execution_count": 311,
   "metadata": {},
   "outputs": [],
   "source": [
    "# CELL 9\n",
    "feature_columns = ['ZIP', 'images_count', 'SQUARE_FT',\n",
    "         'parking_lot', 'rooms', 'user_id', 'phone', \n",
    "         'price', 'year_built', 'Yr_sold', 'sale_type']\n",
    "\n"
   ]
  },
  {
   "cell_type": "code",
   "execution_count": 327,
   "metadata": {},
   "outputs": [
    {
     "data": {
      "text/html": [
       "<div>\n",
       "<style scoped>\n",
       "    .dataframe tbody tr th:only-of-type {\n",
       "        vertical-align: middle;\n",
       "    }\n",
       "\n",
       "    .dataframe tbody tr th {\n",
       "        vertical-align: top;\n",
       "    }\n",
       "\n",
       "    .dataframe thead th {\n",
       "        text-align: right;\n",
       "    }\n",
       "</style>\n",
       "<table border=\"1\" class=\"dataframe\">\n",
       "  <thead>\n",
       "    <tr style=\"text-align: right;\">\n",
       "      <th></th>\n",
       "      <th>ZIP</th>\n",
       "      <th>images_count</th>\n",
       "      <th>SQUARE_FT</th>\n",
       "      <th>parking_lot</th>\n",
       "      <th>rooms</th>\n",
       "      <th>user_id</th>\n",
       "      <th>phone</th>\n",
       "      <th>price</th>\n",
       "      <th>year_built</th>\n",
       "      <th>Yr_sold</th>\n",
       "      <th>sale_type</th>\n",
       "    </tr>\n",
       "  </thead>\n",
       "  <tbody>\n",
       "    <tr>\n",
       "      <th>0</th>\n",
       "      <td>16508550</td>\n",
       "      <td>12</td>\n",
       "      <td>1300.236407</td>\n",
       "      <td>2</td>\n",
       "      <td>3</td>\n",
       "      <td>1716845</td>\n",
       "      <td>784856045</td>\n",
       "      <td>130000.0</td>\n",
       "      <td>2010</td>\n",
       "      <td>2008.0</td>\n",
       "      <td>1</td>\n",
       "    </tr>\n",
       "    <tr>\n",
       "      <th>1</th>\n",
       "      <td>15715984</td>\n",
       "      <td>6</td>\n",
       "      <td>1275.000000</td>\n",
       "      <td>3</td>\n",
       "      <td>4</td>\n",
       "      <td>5078665</td>\n",
       "      <td>713739556</td>\n",
       "      <td>150000.0</td>\n",
       "      <td>2011</td>\n",
       "      <td>2007.0</td>\n",
       "      <td>1</td>\n",
       "    </tr>\n",
       "    <tr>\n",
       "      <th>2</th>\n",
       "      <td>16387265</td>\n",
       "      <td>17</td>\n",
       "      <td>933.159722</td>\n",
       "      <td>4</td>\n",
       "      <td>5</td>\n",
       "      <td>1927270</td>\n",
       "      <td>707875750</td>\n",
       "      <td>30000.0</td>\n",
       "      <td>2013</td>\n",
       "      <td>2008.0</td>\n",
       "      <td>1</td>\n",
       "    </tr>\n",
       "    <tr>\n",
       "      <th>3</th>\n",
       "      <td>16545942</td>\n",
       "      <td>10</td>\n",
       "      <td>929.921143</td>\n",
       "      <td>2</td>\n",
       "      <td>4</td>\n",
       "      <td>4365441</td>\n",
       "      <td>706098348</td>\n",
       "      <td>38000.0</td>\n",
       "      <td>2022</td>\n",
       "      <td>2006.0</td>\n",
       "      <td>1</td>\n",
       "    </tr>\n",
       "    <tr>\n",
       "      <th>4</th>\n",
       "      <td>16028693</td>\n",
       "      <td>14</td>\n",
       "      <td>999.009247</td>\n",
       "      <td>1</td>\n",
       "      <td>6</td>\n",
       "      <td>236839</td>\n",
       "      <td>727591037</td>\n",
       "      <td>130000.0</td>\n",
       "      <td>2024</td>\n",
       "      <td>2008.0</td>\n",
       "      <td>1</td>\n",
       "    </tr>\n",
       "  </tbody>\n",
       "</table>\n",
       "</div>"
      ],
      "text/plain": [
       "        ZIP  images_count    SQUARE_FT  parking_lot  rooms  user_id  \\\n",
       "0  16508550            12  1300.236407            2      3  1716845   \n",
       "1  15715984             6  1275.000000            3      4  5078665   \n",
       "2  16387265            17   933.159722            4      5  1927270   \n",
       "3  16545942            10   929.921143            2      4  4365441   \n",
       "4  16028693            14   999.009247            1      6   236839   \n",
       "\n",
       "       phone     price  year_built  Yr_sold  sale_type  \n",
       "0  784856045  130000.0        2010   2008.0          1  \n",
       "1  713739556  150000.0        2011   2007.0          1  \n",
       "2  707875750   30000.0        2013   2008.0          1  \n",
       "3  706098348   38000.0        2022   2006.0          1  \n",
       "4  727591037  130000.0        2024   2008.0          1  "
      ]
     },
     "execution_count": 327,
     "metadata": {},
     "output_type": "execute_result"
    }
   ],
   "source": [
    "#CELL 10\n",
    "df.head()\n"
   ]
  },
  {
   "cell_type": "code",
   "execution_count": 313,
   "metadata": {},
   "outputs": [
    {
     "name": "stdout",
     "output_type": "stream",
     "text": [
      "        ZIP  images_count    SQUARE_FT  parking_lot  rooms  user_id  \\\n",
      "0  16508550            12  1300.236407            2      3  1716845   \n",
      "1  15715984             6  1275.000000            3      4  5078665   \n",
      "2  16387265            17   933.159722            4      5  1927270   \n",
      "3  16545942            10   929.921143            2      4  4365441   \n",
      "4  16028693            14   999.009247            1      6   236839   \n",
      "\n",
      "       phone        price  year_built  Yr_sold  sale_type  \n",
      "0  784856045  KSh 130,000        2010   2008.0          1  \n",
      "1  713739556  KSh 150,000        2011   2007.0          1  \n",
      "2  707875750   KSh 30,000        2013   2008.0          1  \n",
      "3  706098348   KSh 38,000        2022   2006.0          1  \n",
      "4  727591037  KSh 130,000        2024   2008.0          1  \n"
     ]
    }
   ],
   "source": [
    "#CELL 11\n",
    "import pandas as pd\n",
    "from sklearn.preprocessing import LabelEncoder\n",
    "\n",
    "# Sample data corrected for equal length of lists\n",
    "data = {\n",
    "    'ZIP': [16508550, 15715984, 16387265, 16545942, 16028693, 15658958, 16581464, 16602649],\n",
    "    'images_count': [12, 6, 17, 10, 14, 8, 5, 11],\n",
    "    'SQUARE_FT': [1300.236407, 1275, 933.1597222, 929.9211427, 999.009247, 1100, 1200, 1150],\n",
    "    'parking_lot': [2, 3, 4, 2, 1, 3, 2, 4],\n",
    "    'rooms': [3, 4, 5, 4, 6, 5, 6, 7],\n",
    "    'user_id': [1716845, 5078665, 1927270, 4365441, 236839, 123456, 654321, 987654],\n",
    "    'phone': [784856045, 713739556, 707875750, 706098348, 727591037, 912345678, 987654321, 876543219],\n",
    "    'price': ['KSh 130,000', 'KSh 150,000', 'KSh 30,000', 'KSh 38,000', 'KSh 130,000', 'KSh 120,000', 'KSh 95,000', 'KSh 105,000'],\n",
    "    'year_built': ['2010', '2011', '2013', '2022', '2024', '2015', '2018', '2020'],\n",
    "    'Yr_sold': [2008.0, 2007.0, 2008.0, 2006.0, 2008.0, 2010.0, 2012.0, 2014.0],\n",
    "    'sale_type': ['WD', 'WD', 'WD', 'WD', 'WD', 'Lease', 'Lease', 'WD']\n",
    "}\n",
    "\n",
    "# Creating DataFrame\n",
    "df = pd.DataFrame(data)\n",
    "\n",
    "# Initialize the label encoder\n",
    "label_encoder = LabelEncoder()\n",
    "\n",
    "# Apply label encoding to categorical columns\n",
    "df['sale_type'] = label_encoder.fit_transform(df['sale_type'])\n",
    "\n",
    "# Convert 'year_built' to numeric\n",
    "df['year_built'] = pd.to_numeric(df['year_built'], errors='coerce')\n",
    "\n",
    "# Display the first few rows of the updated DataFrame\n",
    "print(df.head())\n"
   ]
  },
  {
   "cell_type": "code",
   "execution_count": 314,
   "metadata": {},
   "outputs": [],
   "source": [
    "#CELL 12\n",
    "y = df['price']\n",
    "x = df.drop(['price'],axis=1)\n"
   ]
  },
  {
   "cell_type": "code",
   "execution_count": 315,
   "metadata": {},
   "outputs": [],
   "source": [
    "# CELL 13\n",
    "df['price'] = df['price'].str.replace('KSh', '').str.replace(',', '').astype(float)\n",
    "y = df['price']\n"
   ]
  },
  {
   "cell_type": "code",
   "execution_count": 316,
   "metadata": {},
   "outputs": [],
   "source": [
    "# CELL 14\n",
    "numeric_columns = ['ZIP', 'images_count', 'SQUARE_FT', 'parking_lot', 'rooms', 'user_id', 'phone', 'price', 'year_built', 'Yr_sold', 'sale_type'\n",
    " ]\n",
    "X = df[numeric_columns]\n"
   ]
  },
  {
   "cell_type": "code",
   "execution_count": 317,
   "metadata": {},
   "outputs": [],
   "source": [
    "\n",
    "#CELL 15\n",
    "from sklearn.model_selection import train_test_split\n",
    "from sklearn.linear_model import LinearRegression\n",
    "from sklearn.preprocessing import StandardScaler\n",
    "\n"
   ]
  },
  {
   "cell_type": "code",
   "execution_count": 318,
   "metadata": {},
   "outputs": [],
   "source": [
    "x_train,x_test,y_train,y_test = train_test_split(x,y,test_size=0.2,random_state=0)\n"
   ]
  },
  {
   "cell_type": "code",
   "execution_count": 319,
   "metadata": {},
   "outputs": [],
   "source": [
    "X = df.drop(columns=['price'])\n",
    "y = df['price']"
   ]
  },
  {
   "cell_type": "code",
   "execution_count": 320,
   "metadata": {},
   "outputs": [
    {
     "name": "stdout",
     "output_type": "stream",
     "text": [
      "        ZIP  images_count  SQUARE_FT  parking_lot     rooms   user_id  \\\n",
      "0 -1.170389     -1.597191   1.110883     0.522233 -0.620174  1.536975   \n",
      "1  1.081599      0.319438   0.180841     1.566699  1.612452 -0.563259   \n",
      "2  0.937572     -0.063888  -1.456619    -0.522233 -0.620174  1.170822   \n",
      "3  0.842602      0.702764   1.298650    -0.522233 -1.364382 -0.188908   \n",
      "4 -1.315226     -0.830540  -0.191175     0.522233  0.124035 -1.006919   \n",
      "\n",
      "      phone  year_built   Yr_sold  sale_type  \n",
      "0 -0.904941   -1.120631 -0.702764   0.447214  \n",
      "1  1.109859    0.560316  1.980517   0.447214  \n",
      "2 -0.999506    0.933859 -1.086090   0.447214  \n",
      "3 -0.024829   -1.307403 -0.319438   0.447214  \n",
      "4  1.552937   -0.373544  0.447214  -2.236068  \n"
     ]
    }
   ],
   "source": [
    "scaler = StandardScaler()\n",
    "x_train = scaler.fit_transform(x_train)\n",
    "x_test = scaler.transform(x_test)\n",
    "\n",
    "# Create a DataFrame from the scaled data with the correct column names\n",
    "x_train_df = pd.DataFrame(x_train, columns=X.columns)\n",
    "x_test_df = pd.DataFrame(x_test, columns=X.columns)\n",
    "\n",
    "print(x_train_df.head())\n",
    "\n"
   ]
  },
  {
   "cell_type": "code",
   "execution_count": 321,
   "metadata": {},
   "outputs": [],
   "source": [
    "scaler = StandardScaler()\n",
    "\n",
    "x_train = scaler.fit_transform(x_train)\n",
    "x_test = scaler.transform(x_test)\n"
   ]
  },
  {
   "cell_type": "code",
   "execution_count": 322,
   "metadata": {},
   "outputs": [],
   "source": [
    "\n",
    "# Handling missing values if necessary\n",
    "X = X.fillna(X.mean())\n",
    "sc_x = StandardScaler()\n",
    "x_train = sc_x.fit_transform(x_train)\n",
    "x_test = sc_x.transform(x_test)\n",
    "\n"
   ]
  },
  {
   "cell_type": "code",
   "execution_count": 323,
   "metadata": {},
   "outputs": [
    {
     "name": "stdout",
     "output_type": "stream",
     "text": [
      "        ZIP  images_count  SQUARE_FT  parking_lot     rooms   user_id  \\\n",
      "0 -1.170389     -1.597191   1.110883     0.522233 -0.620174  1.536975   \n",
      "1  1.081599      0.319438   0.180841     1.566699  1.612452 -0.563259   \n",
      "2  0.937572     -0.063888  -1.456619    -0.522233 -0.620174  1.170822   \n",
      "3  0.842602      0.702764   1.298650    -0.522233 -1.364382 -0.188908   \n",
      "4 -1.315226     -0.830540  -0.191175     0.522233  0.124035 -1.006919   \n",
      "\n",
      "      phone  year_built   Yr_sold  sale_type  \n",
      "0 -0.904941   -1.120631 -0.702764   0.447214  \n",
      "1  1.109859    0.560316  1.980517   0.447214  \n",
      "2 -0.999506    0.933859 -1.086090   0.447214  \n",
      "3 -0.024829   -1.307403 -0.319438   0.447214  \n",
      "4  1.552937   -0.373544  0.447214  -2.236068  \n"
     ]
    }
   ],
   "source": [
    "print(x_train_df.head())\n"
   ]
  },
  {
   "cell_type": "code",
   "execution_count": 324,
   "metadata": {},
   "outputs": [],
   "source": [
    "model = LinearRegression()\n",
    "model.fit(x_train,y_train)\n",
    "Y_pred = model.predict(x_test)\n"
   ]
  },
  {
   "cell_type": "code",
   "execution_count": 325,
   "metadata": {},
   "outputs": [
    {
     "data": {
      "text/plain": [
       "-0.6795007499250254"
      ]
     },
     "execution_count": 325,
     "metadata": {},
     "output_type": "execute_result"
    }
   ],
   "source": [
    "from sklearn.metrics import r2_score\n",
    "y_test_pre=model.predict(x_test)\n",
    "test_acc=r2_score(y_test,y_test_pre)\n",
    "test_acc\n"
   ]
  },
  {
   "cell_type": "code",
   "execution_count": 326,
   "metadata": {},
   "outputs": [
    {
     "name": "stdout",
     "output_type": "stream",
     "text": [
      "Model and scaler saved successfully.\n"
     ]
    }
   ],
   "source": [
    "model_path = 'C:/Users/Windows 10 Pro/Desktop/housedata/models/house_price_model.pkl'\n",
    "scaler_path = 'C:/Users/Windows 10 Pro/Desktop/housedata/models/scaler.pkl'\n",
    "\n",
    "joblib.dump(model, model_path)\n",
    "joblib.dump(scaler, scaler_path)\n",
    "\n",
    "print(\"Model and scaler saved successfully.\")\n",
    "\n"
   ]
  }
 ],
 "metadata": {
  "kernelspec": {
   "display_name": "Python 3",
   "language": "python",
   "name": "python3"
  },
  "language_info": {
   "codemirror_mode": {
    "name": "ipython",
    "version": 3
   },
   "file_extension": ".py",
   "mimetype": "text/x-python",
   "name": "python",
   "nbconvert_exporter": "python",
   "pygments_lexer": "ipython3",
   "version": "3.9.13"
  }
 },
 "nbformat": 4,
 "nbformat_minor": 2
}
